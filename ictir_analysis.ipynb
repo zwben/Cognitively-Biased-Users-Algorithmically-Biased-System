{
 "cells": [
  {
   "cell_type": "code",
   "id": "initial_id",
   "metadata": {
    "collapsed": true,
    "ExecuteTime": {
     "end_time": "2024-06-12T15:47:22.747027Z",
     "start_time": "2024-06-12T15:47:19.648830Z"
    }
   },
   "source": [
    "import os\n",
    "import pandas as pd\n",
    "import numpy as np\n",
    "from scipy import stats\n",
    "import matplotlib.pyplot as plt\n",
    "import scikit_posthocs as sp\n",
    "from statsmodels.stats.multitest import multipletests\n",
    "\n",
    "df = pd.read_csv('data_clean.csv')"
   ],
   "outputs": [],
   "execution_count": 1
  },
  {
   "metadata": {
    "ExecuteTime": {
     "end_time": "2024-06-12T16:30:22.820103Z",
     "start_time": "2024-06-12T16:30:22.804482Z"
    }
   },
   "cell_type": "code",
   "source": [
    "used_columns = [\n",
    "    # demographic\n",
    "    'ResponseId', 'Gender', 'Age', 'Commitment',\n",
    "    # pre task attitude, information source, prior knowledge, openness\n",
    "    'Attitude_1', 'Source', 'Knowledge_1', 'Pre tolerance',\n",
    "    # post query attitude, perceptions diversity and familiarity\n",
    "    'Post q1 attitude_1', 'Post q1 perception_1', 'Post q1 familiarity_1', \n",
    "    'Post q2 attitude_1', 'Post q2 perception_1', 'Post q2 familiarity_1',\n",
    "    'Post q3 attitude_1', 'Post q3 perception_1', 'Post q3 familiarity_1',\n",
    "    # post task explanation\n",
    "    'Explain q1 click', 'Explain q1 click_10_TEXT', 'Explain q1 mark', 'Explain q1 mark_10_TEXT',\n",
    "    'Explain q2 click', 'Explain q2 click_10_TEXT', 'Explain q2 mark', 'Explain q2 mark_10_TEXT',\n",
    "    'Explain q3 click', 'Explain q3 click_10_TEXT', 'Explain q3 mark', 'Explain q3 mark_10_TEXT',\n",
    "    # flipped (the first query is biased) or not (balanced)\n",
    "    'QueryOrder',\n",
    "    # task and topic conditions\n",
    "    'topic', 'topic_class', 'condition',\n",
    "    # condition of each query\n",
    "    'random_q1', 'random_q2', 'random_q3',\n",
    "    # interaction array\n",
    "    'click_q1', 'dwelltime_q1', 'sequence_q1', 'bookmark_q1', 'more_q1',\n",
    "    'usefulness_q1', 'credibility_q1', \n",
    "    'click_q2', 'dwelltime_q2', 'sequence_q2', 'bookmark_q2', 'more_q2', \n",
    "    'usefulness_q2', 'credibility_q2',\n",
    "    'click_q3', 'dwelltime_q3', 'sequence_q3', 'bookmark_q3', 'more_q3', \n",
    "    'usefulness_q3', 'credibility_q3',\n",
    "    # attidute direction and strength\n",
    "    'Att_direct', 'Att_strength',\n",
    "    # directional attitude changes\n",
    "    'att_change_q1', 'att_change_q2', 'att_change_q3',\n",
    "    # absolute attitude changes\n",
    "    'att_step_q1', 'att_step_q2', 'att_step_q3', 'att_step_total',\n",
    "    # direction of selected query's attitude\n",
    "    'q1_direct_att', 'q2_direct_att', 'q3_direct_att',\n",
    "    # aggregated interaction\n",
    "    'click_q1_sum', 'click_q2_sum', 'click_q3_sum',\n",
    "    'bookmark_q1_sum', 'bookmark_q2_sum', 'bookmark_q3_sum',\n",
    "    'dwelltime_q1_sum', 'dwelltime_q2_sum', 'dwelltime_q3_sum',\n",
    "    'usefulness_q1_sum', 'usefulness_q2_sum', 'usefulness_q3_sum',\n",
    "    'credibility_q1_sum', 'credibility_q2_sum', 'credibility_q3_sum',\n",
    "    'click_q1_rank', 'click_q1_depth',\n",
    "    'click_q2_rank', 'click_q2_depth',\n",
    "    'click_q3_rank', 'click_q3_depth',\n",
    "    'bookmark_q1_avg', 'bookmark_q2_avg', 'bookmark_q3_avg',\n",
    "    'dwelltime_q1_avg', 'dwelltime_q2_avg',  'dwelltime_q3_avg',\n",
    "    'usefulness_q1_avg', 'usefulness_q2_avg', 'usefulness_q3_avg',\n",
    "    'credibility_q1_avg', 'credibility_q2_avg', 'credibility_q3_avg',\n",
    "    # proportion of interaction on attitude-confirming results\n",
    "    'click_q1_prop', 'click_q1_prop_nor', 'dwelltime_q1_prop',\n",
    "    'usefulness_q1_prop', 'credibility_q1_prop',\n",
    "    'click_q2_prop', 'click_q2_prop_nor', 'dwelltime_q2_prop',\n",
    "    'usefulness_q2_prop',  'credibility_q2_prop',\n",
    "    'click_q3_prop', 'click_q3_prop_nor', 'dwelltime_q3_prop',\n",
    "    'usefulness_q3_prop', 'credibility_q3_prop']"
   ],
   "id": "746e11968347421e",
   "outputs": [],
   "execution_count": 17
  },
  {
   "metadata": {},
   "cell_type": "markdown",
   "source": "## Results of talbe 4 attitude changes",
   "id": "f0261662443b6fe0"
  },
  {
   "metadata": {
    "ExecuteTime": {
     "end_time": "2024-06-12T16:02:19.898151Z",
     "start_time": "2024-06-12T16:02:19.866894Z"
    }
   },
   "cell_type": "code",
   "source": [
    "# calculate the undirectional attitude strength\n",
    "df['Att_strength'] = (df['Attitude_1'] - 4) * df['Att_direct']\n",
    "\n",
    "# calculate the directional attitude changes between queries\n",
    "df['att_post_q1'] = (df['Post q1 attitude_1'] - df['Attitude_1']) * df['Att_direct']\n",
    "df['att_post_q2'] = (df['Post q2 attitude_1'] - df['Post q1 attitude_1']) * df['Att_direct']\n",
    "df['att_post_q3'] = (df['Post q3 attitude_1'] - df['Post q2 attitude_1']) * df['Att_direct']\n",
    "\n",
    "# present the descriptive results of the attitude changes\n",
    "# directional mean\n",
    "print(df[['att_post_q1', 'att_post_q2', 'att_post_q3', 'att_change_q3']].describe())\n",
    "# absolute mean\n",
    "print(df[['att_step_q1', 'att_step_q2', 'att_step_q3', 'att_step_total']].describe())\n"
   ],
   "id": "a56c2113a96f07c6",
   "outputs": [
    {
     "name": "stdout",
     "output_type": "stream",
     "text": [
      "       att_post_q1  att_post_q2  att_post_q3  att_change_q3\n",
      "count  1321.000000  1321.000000  1321.000000    1321.000000\n",
      "mean     -0.760787    -0.080242     0.026495      -0.814534\n",
      "std       0.854759     0.766483     0.808137       0.976062\n",
      "min      -5.000000    -4.000000    -5.000000      -6.000000\n",
      "25%      -1.000000     0.000000     0.000000      -1.000000\n",
      "50%      -1.000000     0.000000     0.000000      -1.000000\n",
      "75%       0.000000     0.000000     0.000000       0.000000\n",
      "max       2.000000     4.000000     5.000000       2.000000\n",
      "       att_step_q1  att_step_q2  att_step_q3  att_step_total\n",
      "count  1321.000000  1321.000000  1321.000000     1321.000000\n",
      "mean      0.815291     0.378501     0.400454        1.594247\n",
      "std       0.802898     0.671243     0.702355        1.562951\n",
      "min       0.000000     0.000000     0.000000        0.000000\n",
      "25%       0.000000     0.000000     0.000000        1.000000\n",
      "50%       1.000000     0.000000     0.000000        1.000000\n",
      "75%       1.000000     1.000000     1.000000        2.000000\n",
      "max       5.000000     4.000000     5.000000       10.000000\n"
     ]
    }
   ],
   "execution_count": 3
  },
  {
   "metadata": {},
   "cell_type": "markdown",
   "source": "## Results of table 5 correlation matrix attitude changes and user characteristics",
   "id": "8f32ed7e3f08ca7a"
  },
  {
   "metadata": {
    "ExecuteTime": {
     "end_time": "2024-06-12T16:04:00.484567Z",
     "start_time": "2024-06-12T16:04:00.334955Z"
    }
   },
   "cell_type": "code",
   "source": [
    "df_ac = df[['Att_strength','Knowledge_1','Pre tolerance','att_change_q3','att_step_total']]\n",
    "\n",
    "from scipy.stats import pearsonr, spearmanr\n",
    "rho = df_ac.corr('spearman')\n",
    "pval = df_ac.corr(method=lambda x, y: spearmanr(x, y)[1]) - np.eye(*rho.shape)\n",
    "p = pval.applymap(lambda x: ''.join(['*' for t in [.05, .01, .001] if x<=t]))\n",
    "rho=rho.round(2).astype(str) + p\n",
    "\n",
    "print(rho)"
   ],
   "id": "5d1334a1b99f8125",
   "outputs": [
    {
     "name": "stdout",
     "output_type": "stream",
     "text": [
      "               Att_strength Knowledge_1 Pre tolerance att_change_q3  \\\n",
      "Att_strength         1.0***     0.54***       0.37***      -0.28***   \n",
      "Knowledge_1         0.54***      1.0***       0.39***         -0.02   \n",
      "Pre tolerance       0.37***     0.39***        1.0***          0.04   \n",
      "att_change_q3      -0.28***       -0.02          0.04        1.0***   \n",
      "att_step_total       0.1***     -0.1***        -0.07*      -0.53***   \n",
      "\n",
      "               att_step_total  \n",
      "Att_strength           0.1***  \n",
      "Knowledge_1           -0.1***  \n",
      "Pre tolerance          -0.07*  \n",
      "att_change_q3        -0.53***  \n",
      "att_step_total         1.0***  \n"
     ]
    }
   ],
   "execution_count": 4
  },
  {
   "metadata": {},
   "cell_type": "markdown",
   "source": "## Experiments for H1 and H2",
   "id": "aba9478bdadb9b4c"
  },
  {
   "metadata": {
    "ExecuteTime": {
     "end_time": "2024-06-12T16:06:30.173632Z",
     "start_time": "2024-06-12T16:06:30.083721Z"
    }
   },
   "cell_type": "code",
   "source": [
    "behaviors_all = ['click_%s_sum', 'click_%s_rank', 'click_%s_depth', 'dwelltime_%s_avg', 'bookmark_%s_avg', 'more_%s','usefulness_%s_avg', 'credibility_%s_avg', 'Post %s perception_1', 'Post %s familiarity_1']\n",
    "\n",
    "behaviors_prop = ['click_', 'dwelltime_', 'usefulness_', 'credibility_']\n",
    "\n",
    "def bea_table(query):\n",
    "    behaviors = behaviors_all.copy()\n",
    "\n",
    "    data = df.loc[df['QueryOrder']=='flipped'].copy()\n",
    "    data['more_%s'%(query)].fillna(0, inplace=True)\n",
    "\n",
    "    data['post_q1_direct_att'] = data['q2_direct_att']\n",
    "    data['post_q2_direct_att'] = data['q3_direct_att']\n",
    "\n",
    "    condition1 = ['balanced','reinforce_r','reinforce_d','rank','diverse','obfuscated']\n",
    "    condition2 = ['balanced', 'rank', 'diverse']\n",
    "\n",
    "    if query=='q1':\n",
    "        conditions = condition1\n",
    "        condition_at = 'random_q1'\n",
    "    elif query=='q2':\n",
    "        conditions = ['balanced-'+j for j in condition1]\n",
    "        condition_at = 'condition'\n",
    "    elif query=='q3':\n",
    "        conditions = [i+'-'+j for i in condition2 for j in condition1]\n",
    "        condition_at = 'condition'\n",
    "\n",
    "    print(*[len(data.loc[data[condition_at]==con]) for con in conditions])\n",
    "    p_list = {}\n",
    "    for b in behaviors:\n",
    "        print(b, *[data.loc[data[condition_at]==con][b%(query)].mean().round(3) for con in conditions], end=' ')\n",
    "        p_list[b%(query)] = p_val = stats.kruskal(*[data.loc[data[condition_at]==con][b%(query)] for con in conditions], nan_policy='omit')\n",
    "        print(p_val[1].round(4))\n",
    "        if p_val[1] < 0.05:\n",
    "            conover_results = sp.posthoc_conover(data, val_col=b%(query), group_col=condition_at, p_adjust = 'holm')\n",
    "            print(conover_results.round(4).to_string())\n",
    "\n",
    "    for b in behaviors_prop:\n",
    "        if b != 'click_':\n",
    "            data = data.loc[data['click_%s_prop'%(query)]!=0].copy()\n",
    "        else:\n",
    "            print(b, *[data.loc[data[condition_at]==con][b+query+'_prop_nor'].mean().round(3) for con in conditions], end=' ')\n",
    "            p_list[b+query] = p_val = stats.kruskal(*[data.loc[data[condition_at]==con][b+query+'_prop_nor'] for con in conditions])\n",
    "            print(p_val[1].round(4))\n",
    "        print(b, *[data.loc[data[condition_at]==con][b+query+'_prop'].mean().round(3) for con in conditions], end=' ')\n",
    "        p_list[b+query] = p_val = stats.kruskal(*[data.loc[data[condition_at]==con][b+query+'_prop'] for con in conditions], nan_policy='omit')\n",
    "        print(p_val[1].round(4))\n",
    "        if p_val[1] < 0.05:\n",
    "            conover_results = sp.posthoc_conover(data, val_col=b+query+'_prop', group_col=condition_at, p_adjust = 'holm')\n",
    "            print(conover_results.round(4).to_string())\n",
    "\n",
    "    df_p = pd.DataFrame.from_dict(p_list, orient=\"index\", columns=[\"H_score\",\"p_val\"])\n",
    "    df_p['corrected_p'] = multipletests(df_p['p_val'], method='fdr_bh')[1]\n",
    "    df_p.loc[df_p['corrected_p']<=0.05,'sign'] = '*'\n",
    "    df_p.loc[df_p['corrected_p']<=0.01,'sign'] = '**'\n",
    "\n",
    "    return df_p "
   ],
   "id": "1ea917c83cbf1d98",
   "outputs": [],
   "execution_count": 5
  },
  {
   "metadata": {},
   "cell_type": "markdown",
   "source": "### Results of table 6 search features across different SERP in the first query",
   "id": "41c05f157220d81f"
  },
  {
   "metadata": {
    "ExecuteTime": {
     "end_time": "2024-06-12T16:08:44.705563Z",
     "start_time": "2024-06-12T16:08:44.151645Z"
    }
   },
   "cell_type": "code",
   "source": "fea_q1=bea_table('q1')",
   "id": "43877084c26468c6",
   "outputs": [
    {
     "name": "stdout",
     "output_type": "stream",
     "text": [
      "138 133 131 131 132 128\n",
      "click_%s_sum 3.971 3.805 3.618 5.298 3.553 3.539 0.0\n",
      "             balanced  diverse  obfuscated  rank  reinforce_d  reinforce_r\n",
      "balanced       1.0000      1.0         1.0   0.0       0.9466          1.0\n",
      "diverse        1.0000      1.0         1.0   0.0       1.0000          1.0\n",
      "obfuscated     1.0000      1.0         1.0   0.0       1.0000          1.0\n",
      "rank           0.0000      0.0         0.0   1.0       0.0000          0.0\n",
      "reinforce_d    0.9466      1.0         1.0   0.0       1.0000          1.0\n",
      "reinforce_r    1.0000      1.0         1.0   0.0       1.0000          1.0\n",
      "click_%s_rank 4.529 4.462 4.349 5.025 3.961 5.713 0.0\n",
      "             balanced  diverse  obfuscated    rank  reinforce_d  reinforce_r\n",
      "balanced        1.000   0.2150       0.000  0.2150       1.0000       1.0000\n",
      "diverse         0.215   1.0000       0.000  0.0003       1.0000       0.7311\n",
      "obfuscated      0.000   0.0000       1.000  0.0350       0.0000       0.0000\n",
      "rank            0.215   0.0003       0.035  1.0000       0.0171       0.0436\n",
      "reinforce_d     1.000   1.0000       0.000  0.0171       1.0000       1.0000\n",
      "reinforce_r     1.000   0.7311       0.000  0.0436       1.0000       1.0000\n",
      "click_%s_depth 7.174 6.774 6.58 8.481 6.371 8.117 0.0\n",
      "             balanced  diverse  obfuscated    rank  reinforce_d  reinforce_r\n",
      "balanced       1.0000   0.1934      0.0744  0.0061       0.5496       1.0000\n",
      "diverse        0.1934   1.0000      0.0000  0.0000       1.0000       1.0000\n",
      "obfuscated     0.0744   0.0000      1.0000  1.0000       0.0003       0.0020\n",
      "rank           0.0061   0.0000      1.0000  1.0000       0.0000       0.0001\n",
      "reinforce_d    0.5496   1.0000      0.0003  0.0000       1.0000       1.0000\n",
      "reinforce_r    1.0000   1.0000      0.0020  0.0001       1.0000       1.0000\n",
      "dwelltime_%s_avg 11.622 10.544 15.405 13.762 11.633 11.024 0.878\n",
      "bookmark_%s_avg 0.366 0.401 0.453 0.41 0.465 0.458 0.427\n",
      "more_%s 0.232 0.135 0.153 0.267 0.182 0.266 0.0219\n",
      "             balanced  diverse  obfuscated    rank  reinforce_d  reinforce_r\n",
      "balanced       1.0000   1.0000      1.0000  1.0000       0.8571       0.5345\n",
      "diverse        1.0000   1.0000      0.8571  0.8571       1.0000       1.0000\n",
      "obfuscated     1.0000   0.8571      1.0000  1.0000       0.2896       0.1270\n",
      "rank           1.0000   0.8571      1.0000  1.0000       0.2794       0.1187\n",
      "reinforce_d    0.8571   1.0000      0.2896  0.2794       1.0000       1.0000\n",
      "reinforce_r    0.5345   1.0000      0.1270  0.1187       1.0000       1.0000\n",
      "usefulness_%s_avg 2.833 2.977 2.909 2.996 2.908 2.94 0.5887\n",
      "credibility_%s_avg 2.977 3.038 3.05 3.031 3.035 3.024 0.983\n",
      "Post %s perception_1 5.21 5.391 5.374 5.275 5.492 5.219 0.7736\n",
      "Post %s familiarity_1 5.21 5.353 5.389 5.099 5.462 5.039 0.1267\n",
      "click_ 1.004 1.295 1.065 0.751 0.445 0.43 0.0\n",
      "click_ 0.502 0.647 0.852 0.376 0.089 0.215 0.0\n",
      "             balanced  diverse  obfuscated  rank  reinforce_d  reinforce_r\n",
      "balanced          1.0      0.0         0.0   0.0          0.0          0.0\n",
      "diverse           0.0      1.0         0.0   0.0          0.0          0.0\n",
      "obfuscated        0.0      0.0         1.0   0.0          0.0          0.0\n",
      "rank              0.0      0.0         0.0   1.0          0.0          0.0\n",
      "reinforce_d       0.0      0.0         0.0   0.0          1.0          0.0\n",
      "reinforce_r       0.0      0.0         0.0   0.0          0.0          1.0\n",
      "dwelltime_ 0.999 1.071 1.035 0.92 0.939 0.933 0.0\n",
      "             balanced  diverse  obfuscated    rank  reinforce_d  reinforce_r\n",
      "balanced       1.0000   1.0000      0.4838  0.6125       0.1024       0.1040\n",
      "diverse        1.0000   1.0000      1.0000  1.0000       0.6125       0.6125\n",
      "obfuscated     0.4838   1.0000      1.0000  1.0000       0.0005       0.0005\n",
      "rank           0.6125   1.0000      1.0000  1.0000       0.0004       0.0005\n",
      "reinforce_d    0.1024   0.6125      0.0005  0.0004       1.0000       1.0000\n",
      "reinforce_r    0.1040   0.6125      0.0005  0.0005       1.0000       1.0000\n",
      "usefulness_ 1.009 1.003 1.013 0.991 0.998 0.992 0.7219\n",
      "credibility_ 1.005 1.005 1.007 1.002 0.973 1.041 0.2393\n"
     ]
    }
   ],
   "execution_count": 7
  },
  {
   "metadata": {
    "ExecuteTime": {
     "end_time": "2024-06-12T16:08:52.962222Z",
     "start_time": "2024-06-12T16:08:52.946582Z"
    }
   },
   "cell_type": "code",
   "source": "print(fea_q1)",
   "id": "9f9016a93cadde18",
   "outputs": [
    {
     "name": "stdout",
     "output_type": "stream",
     "text": [
      "                          H_score         p_val   corrected_p sign\n",
      "click_q1_sum           200.311796  2.436198e-41  1.705339e-40   **\n",
      "click_q1_rank           62.032821  4.616620e-12  2.154423e-11   **\n",
      "click_q1_depth          50.266848  1.222043e-09  4.277150e-09   **\n",
      "dwelltime_q1_avg         1.785187  8.779977e-01  9.455360e-01  NaN\n",
      "bookmark_q1_avg          4.909772  4.269908e-01  6.642079e-01  NaN\n",
      "more_q1                 13.158247  2.194010e-02  5.119357e-02  NaN\n",
      "usefulness_q1_avg        3.731380  5.887011e-01  8.241816e-01  NaN\n",
      "credibility_q1_avg       0.698700  9.830399e-01  9.830399e-01  NaN\n",
      "Post q1 perception_1     2.518986  7.736331e-01  9.025720e-01  NaN\n",
      "Post q1 familiarity_1    8.586651  1.267312e-01  2.534625e-01  NaN\n",
      "click_q1               438.599764  1.413058e-92  1.978281e-91   **\n",
      "dwelltime_q1            34.251687  2.121480e-06  5.940143e-06   **\n",
      "usefulness_q1            2.857556  7.219352e-01  9.025720e-01  NaN\n",
      "credibility_q1           6.757388  2.393180e-01  4.188064e-01  NaN\n"
     ]
    }
   ],
   "execution_count": 8
  },
  {
   "metadata": {},
   "cell_type": "markdown",
   "source": "### Results of features in the second query",
   "id": "87a647d1cc7a45d7"
  },
  {
   "metadata": {},
   "cell_type": "code",
   "outputs": [],
   "execution_count": null,
   "source": "fea_q2=bea_table('q2')",
   "id": "a57641a0202f823f"
  },
  {
   "metadata": {},
   "cell_type": "markdown",
   "source": "### Results of features in the third query",
   "id": "1bc4f51736140af2"
  },
  {
   "metadata": {
    "ExecuteTime": {
     "end_time": "2024-06-12T16:12:13.418606Z",
     "start_time": "2024-06-12T16:12:13.054876Z"
    }
   },
   "cell_type": "code",
   "source": "fea_q3=bea_table('q3')",
   "id": "f19048fb4b23904f",
   "outputs": [
    {
     "name": "stdout",
     "output_type": "stream",
     "text": [
      "58 38 43 42 46 40 41 45 45 52 43 45 39 50 43 37 43 43\n",
      "click_%s_sum 3.621 3.447 3.279 3.429 3.5 3.5 3.146 3.689 3.711 3.981 3.302 3.778 3.795 3.48 3.395 3.514 3.186 3.279 0.4518\n",
      "click_%s_rank 4.967 4.087 4.49 4.81 4.555 4.975 4.93 4.891 4.346 5.017 4.165 4.359 3.829 4.66 4.57 4.467 4.699 4.173 0.5495\n",
      "click_%s_depth 7.207 6.289 6.605 7.119 7.196 7.275 7.39 7.333 6.444 7.519 6.279 6.622 6.231 6.72 7.116 6.649 7.047 6.488 0.6097\n",
      "dwelltime_%s_avg 4.747 5.646 7.511 4.475 7.944 4.554 6.946 6.402 6.204 8.954 4.876 4.287 7.398 6.792 7.992 5.474 11.231 6.687 0.5182\n",
      "bookmark_%s_avg 0.494 0.342 0.587 0.465 0.489 0.471 0.266 0.517 0.344 0.399 0.45 0.454 0.385 0.372 0.445 0.466 0.503 0.375 0.3542\n",
      "more_%s 0.052 0.0 0.023 0.071 0.065 0.15 0.049 0.044 0.044 0.077 0.047 0.067 0.026 0.06 0.07 0.054 0.07 0.047 0.8079\n",
      "usefulness_%s_avg 2.89 2.971 2.88 3.046 2.939 3.007 2.941 3.127 3.093 2.891 2.72 2.975 2.902 2.877 2.752 3.051 3.087 2.769 0.4026\n",
      "credibility_%s_avg 2.892 2.947 2.985 3.047 2.99 3.0 3.01 3.079 3.191 3.066 3.119 3.101 3.011 3.029 2.88 2.905 3.033 2.815 0.473\n",
      "Post %s perception_1 5.017 5.263 5.326 5.19 5.37 4.375 4.756 5.689 5.644 5.519 5.395 5.222 5.282 4.9 5.233 5.0 5.395 5.256 0.3391\n",
      "Post %s familiarity_1 5.155 5.079 5.279 4.786 5.391 4.2 4.927 5.867 5.8 5.519 5.674 5.178 5.154 5.12 5.163 4.919 5.767 4.977 0.0011\n",
      "                      balanced-balanced  balanced-diverse  balanced-obfuscated  balanced-rank  balanced-reinforce_d  balanced-reinforce_r  diverse-balanced  diverse-diverse  diverse-obfuscated  diverse-rank  diverse-reinforce_d  diverse-reinforce_r  rank-balanced  rank-diverse  rank-obfuscated  rank-rank  rank-reinforce_d  rank-reinforce_r\n",
      "balanced-balanced                 1.000            1.0000               0.5760         1.0000                   1.0                   1.0               1.0           1.0000               1.000           1.0                  1.0               1.0000            1.0        1.0000           1.0000     1.0000            1.0000            1.0000\n",
      "balanced-diverse                  1.000            1.0000               0.3774         1.0000                   1.0                   1.0               1.0           1.0000               1.000           1.0                  1.0               1.0000            1.0        1.0000           1.0000     1.0000            1.0000            1.0000\n",
      "balanced-obfuscated               0.576            0.3774               1.0000         1.0000                   1.0                   1.0               1.0           0.0067               1.000           1.0                  1.0               0.1222            1.0        0.0341           0.5896     0.0424            0.0053            0.0009\n",
      "balanced-rank                     1.000            1.0000               1.0000         1.0000                   1.0                   1.0               1.0           1.0000               1.000           1.0                  1.0               1.0000            1.0        1.0000           1.0000     1.0000            1.0000            0.3556\n",
      "balanced-reinforce_d              1.000            1.0000               1.0000         1.0000                   1.0                   1.0               1.0           1.0000               1.000           1.0                  1.0               1.0000            1.0        1.0000           1.0000     1.0000            1.0000            1.0000\n",
      "balanced-reinforce_r              1.000            1.0000               1.0000         1.0000                   1.0                   1.0               1.0           1.0000               1.000           1.0                  1.0               1.0000            1.0        1.0000           1.0000     1.0000            1.0000            1.0000\n",
      "diverse-balanced                  1.000            1.0000               1.0000         1.0000                   1.0                   1.0               1.0           1.0000               1.000           1.0                  1.0               1.0000            1.0        1.0000           1.0000     1.0000            1.0000            1.0000\n",
      "diverse-diverse                   1.000            1.0000               0.0067         1.0000                   1.0                   1.0               1.0           1.0000               1.000           1.0                  1.0               1.0000            1.0        1.0000           1.0000     1.0000            1.0000            1.0000\n",
      "diverse-obfuscated                1.000            1.0000               1.0000         1.0000                   1.0                   1.0               1.0           1.0000               1.000           1.0                  1.0               1.0000            1.0        1.0000           1.0000     1.0000            1.0000            0.8320\n",
      "diverse-rank                      1.000            1.0000               1.0000         1.0000                   1.0                   1.0               1.0           1.0000               1.000           1.0                  1.0               1.0000            1.0        1.0000           1.0000     1.0000            1.0000            1.0000\n",
      "diverse-reinforce_d               1.000            1.0000               1.0000         1.0000                   1.0                   1.0               1.0           1.0000               1.000           1.0                  1.0               1.0000            1.0        1.0000           1.0000     1.0000            1.0000            1.0000\n",
      "diverse-reinforce_r               1.000            1.0000               0.1222         1.0000                   1.0                   1.0               1.0           1.0000               1.000           1.0                  1.0               1.0000            1.0        1.0000           1.0000     1.0000            1.0000            1.0000\n",
      "rank-balanced                     1.000            1.0000               1.0000         1.0000                   1.0                   1.0               1.0           1.0000               1.000           1.0                  1.0               1.0000            1.0        1.0000           1.0000     1.0000            1.0000            1.0000\n",
      "rank-diverse                      1.000            1.0000               0.0341         1.0000                   1.0                   1.0               1.0           1.0000               1.000           1.0                  1.0               1.0000            1.0        1.0000           1.0000     1.0000            1.0000            1.0000\n",
      "rank-obfuscated                   1.000            1.0000               0.5896         1.0000                   1.0                   1.0               1.0           1.0000               1.000           1.0                  1.0               1.0000            1.0        1.0000           1.0000     1.0000            1.0000            1.0000\n",
      "rank-rank                         1.000            1.0000               0.0424         1.0000                   1.0                   1.0               1.0           1.0000               1.000           1.0                  1.0               1.0000            1.0        1.0000           1.0000     1.0000            1.0000            1.0000\n",
      "rank-reinforce_d                  1.000            1.0000               0.0053         1.0000                   1.0                   1.0               1.0           1.0000               1.000           1.0                  1.0               1.0000            1.0        1.0000           1.0000     1.0000            1.0000            1.0000\n",
      "rank-reinforce_r                  1.000            1.0000               0.0009         0.3556                   1.0                   1.0               1.0           1.0000               0.832           1.0                  1.0               1.0000            1.0        1.0000           1.0000     1.0000            1.0000            1.0000\n",
      "click_ 0.96 0.88 0.902 0.997 0.992 0.839 0.885 0.875 0.913 1.029 1.011 0.916 1.033 0.921 0.98 0.921 0.898 0.835 0.6333\n",
      "click_ 0.48 0.44 0.451 0.498 0.496 0.42 0.442 0.438 0.457 0.515 0.506 0.458 0.516 0.461 0.49 0.46 0.449 0.417 0.6333\n",
      "dwelltime_ 1.056 0.979 1.077 1.092 0.979 1.029 0.959 0.986 1.06 0.99 1.019 1.091 0.981 0.969 1.025 0.982 1.064 1.006 0.2118\n",
      "usefulness_ 1.021 0.976 0.986 1.044 0.989 0.996 0.987 0.964 1.004 1.021 1.035 1.001 1.052 0.988 1.033 0.952 1.041 1.0 0.1299\n",
      "credibility_ 1.029 0.991 0.989 1.01 1.011 1.038 1.019 0.999 1.046 0.972 0.971 1.012 1.013 1.005 0.983 1.004 1.011 1.03 0.423\n"
     ]
    }
   ],
   "execution_count": 9
  },
  {
   "metadata": {
    "ExecuteTime": {
     "end_time": "2024-06-12T16:12:19.120183Z",
     "start_time": "2024-06-12T16:12:19.104559Z"
    }
   },
   "cell_type": "code",
   "source": "print(fea_q3)",
   "id": "b4471d4b9874068a",
   "outputs": [
    {
     "name": "stdout",
     "output_type": "stream",
     "text": [
      "                         H_score     p_val  corrected_p sign\n",
      "click_q3_sum           17.037276  0.451843     0.681982  NaN\n",
      "click_q3_rank          15.639887  0.549492     0.681982  NaN\n",
      "click_q3_depth         14.802129  0.609732     0.681982  NaN\n",
      "dwelltime_q3_avg       16.079252  0.518224     0.681982  NaN\n",
      "bookmark_q3_avg        18.561917  0.354249     0.681982  NaN\n",
      "more_q3                11.870809  0.807896     0.807896  NaN\n",
      "usefulness_q3_avg      17.783733  0.402606     0.681982  NaN\n",
      "credibility_q3_avg     16.726953  0.473009     0.681982  NaN\n",
      "Post q3 perception_1   18.817446  0.339111     0.681982  NaN\n",
      "Post q3 familiarity_1  40.417411  0.001130     0.015816    *\n",
      "click_q3               14.474594  0.633269     0.681982  NaN\n",
      "dwelltime_q3           21.331006  0.211833     0.681982  NaN\n",
      "usefulness_q3          23.627018  0.129929     0.681982  NaN\n",
      "credibility_q3         17.470161  0.422978     0.681982  NaN\n"
     ]
    }
   ],
   "execution_count": 10
  },
  {
   "metadata": {},
   "cell_type": "markdown",
   "source": "### Present figure 2 distribution of the familiarity in the third query",
   "id": "40e758a71e566d4d"
  },
  {
   "metadata": {
    "ExecuteTime": {
     "end_time": "2024-06-12T16:15:22.175466Z",
     "start_time": "2024-06-12T16:15:22.027313Z"
    }
   },
   "cell_type": "code",
   "source": [
    "data = [[5.16,5.08,5.28,4.79,5.39,4.2], [4.93,5.87,5.8,5.52, 5.67,5.18],[ 5.15,5.12,5.16,4.92,5.77,4.98]]\n",
    "\n",
    "data = np.array(data)\n",
    "\n",
    "# calculate the number of sublists and data points\n",
    "num_sublists = len(data)\n",
    "num_data_points = len(data[0])\n",
    "\n",
    "# create the bar plot\n",
    "fig, ax = plt.subplots()\n",
    "bar_width = 0.2\n",
    "opacity = 0.8\n",
    "\n",
    "labels = ['Bal','R','D']\n",
    "\n",
    "# plot each set of bars\n",
    "for i in range(num_sublists):\n",
    "    x_pos = np.arange(num_data_points) + i * bar_width\n",
    "    ax.bar(x_pos, data[i], bar_width,\n",
    "           alpha=opacity,\n",
    "           label=labels[i])\n",
    "    for idx, j in enumerate(x_pos):\n",
    "        if data[i][idx]>5.5:\n",
    "            ax.text(j, data[i][idx], '*',\n",
    "                    ha='center', va='bottom', fontweight='bold', size=14)\n",
    "\n",
    "t = '* indicates that the group \\n significantly differs from \\n group [Q1:Obf, Q2:Bal] \\n with corrected p < 0.05.'\n",
    "\n",
    "ax.text(5.9, 2, t, ha='left', va='bottom', size=10)\n",
    "# set axis labels and title\n",
    "ax.set_xlabel('SERP in the first query')\n",
    "ax.set_ylabel('Familiarity')\n",
    "# ax.set_title('Bar chart of given list')\n",
    "\n",
    "# set x-axis tick labels\n",
    "ax.set_xticks(np.arange(num_data_points) + (num_sublists-1) * bar_width / 2)\n",
    "ax.set_xticklabels(['Bal','R','D', 'Re-R', 'Re-D', 'Obf'])\n",
    "\n",
    "# add legend and show plot\n",
    "ax.legend(loc='upper left', bbox_to_anchor=(1, 1),title=\"Second query\")\n",
    "plt.show()"
   ],
   "id": "9c3be45a818ede3a",
   "outputs": [
    {
     "data": {
      "text/plain": [
       "<Figure size 640x480 with 1 Axes>"
      ],
      "image/png": "[encoded data removed]"
     },
     "metadata": {},
     "output_type": "display_data"
    }
   ],
   "execution_count": 12
  },
  {
   "metadata": {},
   "cell_type": "markdown",
   "source": "## Experiments for H3",
   "id": "93b8fa52f4a55622"
  },
  {
   "metadata": {
    "ExecuteTime": {
     "end_time": "2024-06-12T16:20:50.678865Z",
     "start_time": "2024-06-12T16:20:50.647613Z"
    }
   },
   "cell_type": "code",
   "source": [
    "def print_att(pre_condition=1):\n",
    "    zero = (df['condition'] == 'balanced-balanced') & pre_condition\n",
    "    bias1_1 = (df['random_q2']=='balanced') & (df['random_q1'].str.contains('reinforce')) & (df['QueryOrder']=='flipped') & pre_condition\n",
    "    bias1_2 = (df['random_q2']!='balanced') & (df['random_q1']=='balanced') & (df['random_q3']=='balanced') & pre_condition\n",
    "    bias1_3 = (df['random_q2']=='balanced') & (df['random_q3'].str.contains('reinforce')) & (df['QueryOrder'].isna()) & pre_condition\n",
    "\n",
    "    bias2_1 = (df['random_q2']!='balanced') & (df['random_q1'].str.contains('reinforce')) & (df['QueryOrder']=='flipped') & pre_condition\n",
    "    bias2_2 = (df['random_q2']!='balanced') & (df['random_q3'].str.contains('reinforce')) & (df['QueryOrder'].isna()) & pre_condition\n",
    "\n",
    "    miti1 = (df['random_q2']=='balanced') & (~df['random_q1'].str.contains('reinforce|balanced')) & (df['QueryOrder']=='flipped') & pre_condition\n",
    "    miti2 = (df['random_q2']=='balanced') & (~df['random_q3'].str.contains('reinforce|balanced')) & (df['QueryOrder'].isna()) & pre_condition\n",
    "\n",
    "    miti_b1 = (df['random_q2']!='balanced') & (~df['random_q1'].str.contains('reinforce|balanced')) & (df['QueryOrder']=='flipped') & pre_condition\n",
    "    miti_b2 = (df['random_q2']!='balanced') & (~df['random_q3'].str.contains('reinforce|balanced')) & (df['QueryOrder'].isna()) & pre_condition\n",
    "\n",
    "    p_list = {}\n",
    "    i = 1\n",
    "    for con in  [zero, bias1_1, bias1_2, bias1_3, bias2_1, bias2_2, miti1, miti2, miti_b1, miti_b2]:\n",
    "        print(len(df.loc[con]),\n",
    "              # \t   df.loc[con]['att_overall'].mean().round(2),\n",
    "              df.loc[con]['att_post_q1'].mean().round(2),\n",
    "              df.loc[con]['att_post_q2'].mean().round(2),\n",
    "              df.loc[con]['att_post_q3'].mean().round(2),\n",
    "              df.loc[con]['att_step_total'].mean().round(2),\n",
    "              df.loc[con]['att_change_q3'].mean().round(2),\n",
    "              round(len(df.loc[con & (df['att_step_total']==0)])/len(df.loc[con]),2))\n",
    "\n",
    "        if type(pre_condition)==int:\n",
    "            for att in ['att_step_total','att_change_q3']:\n",
    "                p_list[att+'_strength_'+str(i)] = stats.kruskal(*[df.loc[con & (df['Att_strength']==j)][att] for j in [1,2,3]])[1]\n",
    "                p_list[att+'_knowledge_'+str(i)] = stats.kruskal(df.loc[con & (df['Knowledge_1']>=6)][att],\n",
    "                                                                 df.loc[con & (df['Knowledge_1']<6)][att])[1]\n",
    "                p_list[att+'_tolerance_'+str(i)] = stats.kruskal(df.loc[con & (df['Pre tolerance']>=6)][att],\n",
    "                                                                 df.loc[con & (df['Pre tolerance']<6)][att])[1]\n",
    "        i += 1\n",
    "    conditions = [[bias1_1, bias1_2, bias1_3],\n",
    "                  [bias2_1, bias2_2],\n",
    "                  [miti1, miti2],\n",
    "                  [miti_b1, miti_b2]]\n",
    "    i=1\n",
    "    for con in conditions:\n",
    "        p_list['att_step_total_pos_'+str(i)] = stats.kruskal(*[df.loc[c]['att_step_total'] for c in con])\n",
    "        p_list['att_change_q3_pos_'+str(i)] = stats.kruskal(*[df.loc[c]['att_change_q3'] for c in con])\n",
    "        i+=1\n",
    "        \n",
    "    conditions = [bias1_1 | bias1_2 | bias1_3,\n",
    "                  bias2_1 | bias2_2,\n",
    "                  miti1 | miti2,\n",
    "                  miti_b1 | miti_b2, zero]\n",
    "\n",
    "    p_list['att_step_total_level'] = stats.kruskal(*[df.loc[con]['att_step_total'] for con in conditions])\n",
    "    p_list['att_change_q3_level'] = stats.kruskal(*[df.loc[con]['att_change_q3'] for con in conditions])\n",
    "\n",
    "    df_p = pd.DataFrame.from_dict(p_list, orient=\"index\", columns=[\"H_score\",\"p_val\"])\n",
    "    df_p['corrected_p'] = multipletests(df_p['p_val'], method='fdr_bh')[1]\n",
    "    df_p.loc[df_p['corrected_p']<=0.05,'sign'] = '*'\n",
    "    df_p.loc[df_p['corrected_p']<=0.01,'sign'] = '**'\n",
    "\n",
    "    return df_p"
   ],
   "id": "eb1c9f000e51e70b",
   "outputs": [],
   "execution_count": 14
  },
  {
   "metadata": {},
   "cell_type": "markdown",
   "source": "### Results of table 7 attitude changes in different bias position conditions when openness < 6",
   "id": "f688d4652806014"
  },
  {
   "metadata": {
    "ExecuteTime": {
     "end_time": "2024-06-12T16:20:53.457423Z",
     "start_time": "2024-06-12T16:20:53.378859Z"
    }
   },
   "cell_type": "code",
   "source": "low_open = print_att((df['Pre tolerance']<6))",
   "id": "f3d6383906488a3e",
   "outputs": [
    {
     "name": "stdout",
     "output_type": "stream",
     "text": [
      "13 -1.0 0.46 -0.31 2.23 -0.85 0.15\n",
      "30 -0.83 -0.07 -0.37 2.27 -1.27 0.1\n",
      "38 -0.71 -0.03 0.24 1.55 -0.5 0.24\n",
      "19 -0.74 -0.11 -0.05 1.42 -0.89 0.21\n",
      "39 -0.74 0.28 -0.13 1.72 -0.59 0.44\n",
      "46 -0.96 -0.09 -0.02 1.89 -1.07 0.15\n",
      "36 -0.86 -0.08 0.11 1.67 -0.83 0.19\n",
      "24 -0.88 -0.17 -0.04 1.83 -1.08 0.17\n",
      "67 -0.93 -0.07 0.15 2.04 -0.85 0.18\n",
      "37 -0.97 -0.24 -0.3 2.16 -1.51 0.16\n"
     ]
    }
   ],
   "execution_count": 15
  },
  {
   "metadata": {
    "ExecuteTime": {
     "end_time": "2024-06-12T16:21:09.220505Z",
     "start_time": "2024-06-12T16:21:09.204844Z"
    }
   },
   "cell_type": "code",
   "source": "print(low_open)",
   "id": "ed1ce93added97bc",
   "outputs": [
    {
     "name": "stdout",
     "output_type": "stream",
     "text": [
      "                       H_score     p_val  corrected_p sign\n",
      "att_step_total_pos_1  3.104834  0.211736     0.423471  NaN\n",
      "att_change_q3_pos_1   9.918092  0.007020     0.035098    *\n",
      "att_step_total_pos_2  3.031046  0.081685     0.204213  NaN\n",
      "att_change_q3_pos_2   7.714362  0.005478     0.035098    *\n",
      "att_step_total_pos_3  0.131791  0.716583     0.895728  NaN\n",
      "att_change_q3_pos_3   0.004380  0.947235     0.947235  NaN\n",
      "att_step_total_pos_4  0.017527  0.894676     0.947235  NaN\n",
      "att_change_q3_pos_4   3.592648  0.058036     0.193452  NaN\n",
      "att_step_total_level  3.213681  0.522724     0.848381  NaN\n",
      "att_change_q3_level   2.788227  0.593867     0.848381  NaN\n"
     ]
    }
   ],
   "execution_count": 16
  },
  {
   "metadata": {},
   "cell_type": "markdown",
   "source": "### Results of overall conditions and other sub conditions",
   "id": "d525921dd5cb8f0b"
  },
  {
   "metadata": {},
   "cell_type": "code",
   "outputs": [],
   "execution_count": null,
   "source": [
    "overall = print_att()\n",
    "high_kown = print_att((df['Knowledge_1']>=6))\n",
    "low_kown = print_att((df['Knowledge_1']<6))\n",
    "high_open = print_att((df['Pre tolerance']>=6))\n",
    "low_strength = print_att((df['Att_strength']==1))\n",
    "mod_strength = print_att((df['Att_strength']==2))\n",
    "high_strength = print_att((df['Att_strength']==3))"
   ],
   "id": "f30f38838f76b137"
  }
 ],
 "metadata": {
  "kernelspec": {
   "display_name": "Python 3",
   "language": "python",
   "name": "python3"
  },
  "language_info": {
   "codemirror_mode": {
    "name": "ipython",
    "version": 2
   },
   "file_extension": ".py",
   "mimetype": "text/x-python",
   "name": "python",
   "nbconvert_exporter": "python",
   "pygments_lexer": "ipython2",
   "version": "2.7.6"
  }
 },
 "nbformat": 4,
 "nbformat_minor": 5
}
